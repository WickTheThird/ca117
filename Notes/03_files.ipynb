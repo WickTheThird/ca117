{
 "cells": [
  {
   "cell_type": "markdown",
   "id": "9711aaa5",
   "metadata": {},
   "source": [
    "# Lecture 2.3 : Text files\n",
    "\n",
    "> "
   ]
  },
  {
   "cell_type": "markdown",
   "id": "0e269b25",
   "metadata": {},
   "source": [
    "## Introduction\n",
    "\n",
    "- Our Python programs must be able to save their data to the hard disk.\n",
    "  This is *persistent* storage i.e. data saved to the hard disk survives\n",
    "  a reboot (unlike data stored in RAM).  \n",
    "- Our Python programs also need to be able to retrieve data from files\n",
    "  on the hard disk.  \n",
    "- Our programs will, for now, save their data in and retrieve their data\n",
    "  from *text files*. (While text files are human-readable, *binary files*\n",
    "  are not. We may cover them later.)  \n",
    "- File processing entails the following steps:  \n",
    "  1. **Open the file:** This step initialises a *file object* that acts as\n",
    "    a link between the program and the file on the disk. All subsequent\n",
    "    file operations are invoked on the file object. (A file object is\n",
    "    sometimes referred to as a *file descriptor* or *stream*.)  \n",
    "  1. **Read and/or write the file:** This is where the work is done.\n",
    "    Through the file object the on-disk contents of the file will\n",
    "    be read and/or written.  \n",
    "  1. **Close the file:** This step finalises the file on the disk and\n",
    "    unlinks the file object from the program.  "
   ]
  },
  {
   "cell_type": "markdown",
   "id": "675213a5",
   "metadata": {},
   "source": [
    "## Reading from `stdin` versus reading from a file\n",
    "\n",
    "- Up until now we have been reading from `stdin`.  \n",
    "- You can think of `stdin` as a file **that is automatically opened\n",
    "  for you** i.e. you do not have to open it in order to read from it.  \n",
    "- When you see a program invoked as follows the program is reading from\n",
    "`stdin` and you will not have to open any files.  "
   ]
  },
  {
   "cell_type": "code",
   "execution_count": null,
   "id": "fd9db0b8",
   "metadata": {
    "hide-output": false
   },
   "outputs": [],
   "source": [
    "$ python3 program.py < input.txt"
   ]
  },
  {
   "cell_type": "markdown",
   "id": "6f20781f",
   "metadata": {},
   "source": [
    "- However, when you see a program invoked as shown below the program\n",
    "will have to open the file whose name is supplied in `argv[1]`.  "
   ]
  },
  {
   "cell_type": "code",
   "execution_count": null,
   "id": "bea60b44",
   "metadata": {
    "hide-output": false
   },
   "outputs": [],
   "source": [
    "$ python3 program.py input.txt"
   ]
  },
  {
   "cell_type": "markdown",
   "id": "592cf159",
   "metadata": {},
   "source": [
    "\n",
    "\n",
    "## Our sample text file\n",
    "\n",
    "- The file whose contents we will process is called `results.txt`.  "
   ]
  },
  {
   "cell_type": "markdown",
   "id": "2416363a",
   "metadata": {
    "hide-output": false
   },
   "source": [
    "```text\n",
    "$ cat results.txt\n",
    "Mary Connolly 76\n",
    "John Paul Jones 44\n",
    "Fred Higgins 30\n",
    "Laura Timmons 57\n",
    "Fernandinho 22\n",
    "```\n"
   ]
  },
  {
   "cell_type": "markdown",
   "id": "c3347f9c",
   "metadata": {},
   "source": [
    "\n",
    "\n",
    "## Opening and closing a file\n",
    "\n",
    "- Below we open a file for reading.  \n",
    "- Other modes in which a file can be opened include `w` for writing\n",
    "  (warning: if the file already exists when opened for writing it will\n",
    "  be truncated i.e. its contents deleted) and `a` for appending\n",
    "  (additions to the file will follow any existing contents).  \n",
    "- When we specify a file name in the call to `open()` Python will look\n",
    "  in the same directory as the program to find the file.  \n",
    "- If we wish to open a file that is not in the same directory as our\n",
    "program we need to supply a path to the file e.g.\n",
    "`f = open(r'/tmp/results.txt', 'r')`. (The `r` indicates this is a\n",
    "*raw string* and prevents characters such as `/` from taking on any\n",
    "special meaning the Python interpreter might ordinarily assign them.)  "
   ]
  },
  {
   "cell_type": "code",
   "execution_count": null,
   "id": "43ae2ace",
   "metadata": {
    "hide-output": false
   },
   "outputs": [],
   "source": [
    "#!/usr/bin/env python3\n",
    "\n",
    "import sys\n",
    "\n",
    "def main():\n",
    "\n",
    "    # Open a file for reading only. If the open succeeds (why might it fail?)\n",
    "    # it returns a file object (that we assign to f).\n",
    "    f = open(sys.argv[1], 'r')\n",
    "\n",
    "    # Read in the entire file contents. Reading in the entire contents might\n",
    "    # not be a good idea. Why not?\n",
    "    contents = f.read()\n",
    "\n",
    "    # Display the contents\n",
    "    print(contents)\n",
    "\n",
    "    # Close the file\n",
    "    f.close()\n",
    "\n",
    "if __name__ == '__main__':\n",
    "    main()"
   ]
  },
  {
   "cell_type": "markdown",
   "id": "052dc293",
   "metadata": {
    "hide-output": false
   },
   "source": [
    "```text\n",
    "$ python3 file_v01.py results.txt\n",
    "Mary Connolly 76\n",
    "John Paul Jones 44\n",
    "Fred Higgins 30\n",
    "Laura Timmons 57\n",
    "Fernandinho 22\n",
    "```\n"
   ]
  },
  {
   "cell_type": "markdown",
   "id": "dba3e84d",
   "metadata": {},
   "source": [
    "\n",
    "\n",
    "## Reading a file\n",
    "\n",
    "- There are several methods available to a Python programmer for accessing\n",
    "  the contents of a file. The most basic is `read()` which we saw above.  \n",
    "- A variant on `read()` is `readlines()`. While `read()` causes the\n",
    "  entire contents of the file to be read, `readlines()` returns a list\n",
    "  of strings, with each element of the list being a line from the file:  \n",
    "- A potential drawback to `read()` and `readlines()` is that they read\n",
    "in *the entire file contents* and store them in memory. If the file is\n",
    "large this might not be the most efficient use of resources.  "
   ]
  },
  {
   "cell_type": "code",
   "execution_count": null,
   "id": "52bd66d5",
   "metadata": {
    "hide-output": false
   },
   "outputs": [],
   "source": [
    "#!/usr/bin/env python3\n",
    "\n",
    "import sys\n",
    "\n",
    "def main():\n",
    "\n",
    "    f = open(sys.argv[1], 'r')\n",
    "\n",
    "    contents = f.readlines()\n",
    "\n",
    "    print(contents)\n",
    "\n",
    "    f.close()\n",
    "\n",
    "if __name__ == '__main__':\n",
    "    main()"
   ]
  },
  {
   "cell_type": "markdown",
   "id": "aa265ac6",
   "metadata": {
    "hide-output": false
   },
   "source": [
    "```text\n",
    "$ python3 file_v02.py results.txt\n",
    "['Mary Connolly 76\\n', 'John Paul Jones 44\\n', 'Fred Higgins 30\\n', 'Laura Timmons 57\\n', 'Fernandinho 22\\n']\n",
    "```\n"
   ]
  },
  {
   "cell_type": "markdown",
   "id": "d2f404f4",
   "metadata": {},
   "source": [
    "- A sometimes better alternative it to process the file line-by-line. We\n",
    "can read in the contents of a file one line at a time with `readline()`\n",
    "(when we reach the end of the file `readline()` sets `line` to the\n",
    "empty string).  "
   ]
  },
  {
   "cell_type": "code",
   "execution_count": null,
   "id": "493bf2e5",
   "metadata": {
    "hide-output": false
   },
   "outputs": [],
   "source": [
    "#!/usr/bin/env python3\n",
    "\n",
    "import sys\n",
    "\n",
    "def main():\n",
    "\n",
    "    f = open(sys.argv[1], 'r')\n",
    "\n",
    "    line = f.readline()\n",
    "\n",
    "    # Repeat until there is nothing left to read\n",
    "    while line:\n",
    "        print(line.strip())\n",
    "        line = f.readline()\n",
    "\n",
    "    f.close()\n",
    "\n",
    "if __name__ == '__main__':\n",
    "    main()"
   ]
  },
  {
   "cell_type": "markdown",
   "id": "0b3e8a9a",
   "metadata": {
    "hide-output": false
   },
   "source": [
    "```text\n",
    "$ python3 file_v03.py results.txt\n",
    "Mary Connolly 76\n",
    "John Paul Jones 44\n",
    "Fred Higgins 30\n",
    "Laura Timmons 57\n",
    "Fernandinho 22\n",
    "```\n"
   ]
  },
  {
   "cell_type": "markdown",
   "id": "5a5c3d69",
   "metadata": {},
   "source": [
    "- Often the most convenient way, however, to read a file line-by-line is to\n",
    "use an *iterator*. This approach is similar to using `readline()` but\n",
    "requires less code as an explicit check for the end of the file is not\n",
    "required (the iterator handles that). This is the least error-prone\n",
    "approach (and therefore the one you should prefer whenever appropriate):  "
   ]
  },
  {
   "cell_type": "code",
   "execution_count": null,
   "id": "c5f9c62b",
   "metadata": {
    "hide-output": false
   },
   "outputs": [],
   "source": [
    "#!/usr/bin/env python3\n",
    "\n",
    "import sys\n",
    "\n",
    "def main():\n",
    "\n",
    "    f = open(sys.argv[1], 'r')\n",
    "\n",
    "    for line in f:\n",
    "        print(line.strip())\n",
    "\n",
    "    f.close()\n",
    "\n",
    "if __name__ == '__main__':\n",
    "    main()"
   ]
  },
  {
   "cell_type": "markdown",
   "id": "bca834a6",
   "metadata": {
    "hide-output": false
   },
   "source": [
    "```text\n",
    "$ python3 file_v04.py results.txt\n",
    "Mary Connolly 76\n",
    "John Paul Jones 44\n",
    "Fred Higgins 30\n",
    "Laura Timmons 57\n",
    "Fernandinho 22\n",
    "```\n"
   ]
  },
  {
   "cell_type": "markdown",
   "id": "2bb30402",
   "metadata": {},
   "source": [
    "\n",
    "\n",
    "## File processing\n",
    "\n",
    "- Each line of `results.txt` consists of a student name and mark.\n",
    "  Let’s write a program that reads each line from `results.txt` and\n",
    "  prints out whether the student in question has passed (or not).  \n",
    "- We want to read in each line, extract the mark and student name, and\n",
    "  print `passed` if the mark is 40+ and `failed` otherwise.  \n",
    "- The only difficulty is in extracting the name and exam mark from the\n",
    "line. Although a student’s name may consist of a variable number of\n",
    "tokens we can take advantage of the fact that there is a single\n",
    "mark at the end of each line.  "
   ]
  },
  {
   "cell_type": "code",
   "execution_count": null,
   "id": "0e186089",
   "metadata": {
    "hide-output": false
   },
   "outputs": [],
   "source": [
    "#!/usr/bin/env python3\n",
    "\n",
    "import sys\n",
    "\n",
    "def main():\n",
    "\n",
    "    f = open(sys.argv[1], 'r')\n",
    "\n",
    "    for line in f:\n",
    "        tokens = line.strip().split()\n",
    "        mark = int(tokens[-1])\n",
    "        name = ' '.join(tokens[:-1])\n",
    "\n",
    "        if mark >= 40:\n",
    "            result = 'passed'\n",
    "        else:\n",
    "            result = 'failed'\n",
    "\n",
    "        print(f'{name} {result} with a mark of {mark}')\n",
    "\n",
    "    f.close()\n",
    "\n",
    "if __name__ == '__main__':\n",
    "    main()"
   ]
  },
  {
   "cell_type": "markdown",
   "id": "0b395eaa",
   "metadata": {
    "hide-output": false
   },
   "source": [
    "```text\n",
    "$ python3 file_v05.py results.txt\n",
    "Mary Connolly passed with a mark of 76\n",
    "John Paul Jones passed with a mark of 44\n",
    "Fred Higgins failed with a mark of 30\n",
    "Laura Timmons passed with a mark of 57\n",
    "Fernandinho failed with a mark of 22\n",
    "```\n"
   ]
  }
 ],
 "metadata": {
  "date": 1642365681.9003956,
  "filename": "03_files.rst",
  "kernelspec": {
   "display_name": "Python",
   "language": "python3",
   "name": "python3"
  },
  "title": "Lecture 2.3 : Text files"
 },
 "nbformat": 4,
 "nbformat_minor": 5
}
