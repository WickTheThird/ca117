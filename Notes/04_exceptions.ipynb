{
 "cells": [
  {
   "cell_type": "markdown",
   "id": "989bbad7",
   "metadata": {},
   "source": [
    "# Lecture 2.4 : Exception handling\n",
    "\n",
    "> "
   ]
  },
  {
   "cell_type": "markdown",
   "id": "3bffb415",
   "metadata": {},
   "source": [
    "## Introduction\n",
    "\n",
    "- Our programs will encounter errors. When something goes wrong we do not\n",
    "  want our programs to simply fall over. We want them to be robust to all\n",
    "  circumstances that may arise at runtime. How can our programs cope with\n",
    "  runtime errors?  \n",
    "- When something goes wrong at runtime the Python interpreter will *raise\n",
    "an exception*. To be robust to runtime errors our code must accept that\n",
    "they will arise from time to time and *handle* resultant exceptions when\n",
    "they are raised. Here are examples of some runtime errors:  "
   ]
  },
  {
   "cell_type": "code",
   "execution_count": null,
   "id": "61f7ed59",
   "metadata": {
    "hide-output": false
   },
   "outputs": [],
   "source": [
    "# Try to convert 'cat' to an integer\n",
    "int('cat')"
   ]
  },
  {
   "cell_type": "markdown",
   "id": "8b919495",
   "metadata": {
    "hide-output": false
   },
   "source": [
    "```ipythontb\n",
    "---------------------------------------------------------------------------\n",
    "ValueError                                Traceback (most recent call last)\n",
    "/tmp/ipykernel_9663/2913609348.py in <module>\n",
    "      1 # Try to convert 'cat' to an integer\n",
    "----> 2 int('cat')\n",
    "\n",
    "ValueError: invalid literal for int() with base 10: 'cat'\n",
    "```\n"
   ]
  },
  {
   "cell_type": "code",
   "execution_count": null,
   "id": "c3253297",
   "metadata": {
    "hide-output": false
   },
   "outputs": [],
   "source": [
    "# Try to divide by zero\n",
    "3/0"
   ]
  },
  {
   "cell_type": "markdown",
   "id": "689fafe3",
   "metadata": {
    "hide-output": false
   },
   "source": [
    "```ipythontb\n",
    "---------------------------------------------------------------------------\n",
    "ZeroDivisionError                         Traceback (most recent call last)\n",
    "/tmp/ipykernel_9663/2984019755.py in <module>\n",
    "      1 # Try to divide by zero\n",
    "----> 2 3/0\n",
    "\n",
    "ZeroDivisionError: division by zero\n",
    "```\n"
   ]
  },
  {
   "cell_type": "code",
   "execution_count": null,
   "id": "66787a6f",
   "metadata": {
    "hide-output": false
   },
   "outputs": [],
   "source": [
    "# Try to open a file that does not exist\n",
    "open('no-such-file.txt', 'r')"
   ]
  },
  {
   "cell_type": "markdown",
   "id": "f8e771bf",
   "metadata": {
    "hide-output": false
   },
   "source": [
    "```ipythontb\n",
    "---------------------------------------------------------------------------\n",
    "FileNotFoundError                         Traceback (most recent call last)\n",
    "/tmp/ipykernel_9663/3427071812.py in <module>\n",
    "      1 # Try to open a file that does not exist\n",
    "----> 2 open('no-such-file.txt', 'r')\n",
    "\n",
    "FileNotFoundError: [Errno 2] No such file or directory: 'no-such-file.txt'\n",
    "```\n"
   ]
  },
  {
   "cell_type": "markdown",
   "id": "aed97b7a",
   "metadata": {},
   "source": [
    "\n",
    "\n",
    "## File processing with no exception handling\n",
    "\n",
    "- Let’s look at what happens when a program that processes student results\n",
    "is passed the name of a file that does not exist.  "
   ]
  },
  {
   "cell_type": "code",
   "execution_count": null,
   "id": "bb3bf82f",
   "metadata": {
    "hide-output": false
   },
   "outputs": [],
   "source": [
    "#!/usr/bin/env python3\n",
    "\n",
    "import sys\n",
    "\n",
    "def main():\n",
    "\n",
    "    f = open(sys.argv[1], 'r')\n",
    "\n",
    "    for line in f:\n",
    "        tokens = line.strip().split()\n",
    "        mark = int(tokens[-1])\n",
    "        name = ' '.join(tokens[:-1])\n",
    "\n",
    "        if mark >= 40:\n",
    "            result = 'passed'\n",
    "        else:\n",
    "            result = 'failed'\n",
    "\n",
    "        print(f'{name} {result} with a mark of {mark}')\n",
    "\n",
    "    f.close()\n",
    "\n",
    "if __name__ == '__main__':\n",
    "    main()"
   ]
  },
  {
   "cell_type": "markdown",
   "id": "9a3937c8",
   "metadata": {
    "hide-output": false
   },
   "source": [
    "```text\n",
    "$ python3 procfile_v01.py no-such-file.txt\n",
    "Traceback (most recent call last):\n",
    "  File \"/home/dobrien/darragh/vinson/ca117/sphinx/week02/lecture04/procfile_v01.py\", line 24, in <module>\n",
    "    main()\n",
    "  File \"/home/dobrien/darragh/vinson/ca117/sphinx/week02/lecture04/procfile_v01.py\", line 7, in main\n",
    "    f = open(sys.argv[1], 'r')\n",
    "FileNotFoundError: [Errno 2] No such file or directory: 'no-such-file.txt'\n",
    "```\n"
   ]
  },
  {
   "cell_type": "markdown",
   "id": "7a5582ba",
   "metadata": {},
   "source": [
    "\n",
    "\n",
    "## Handling the FileNotFoundError exception\n",
    "\n",
    "- Rather than have a program abruptly exit on encountering such an error\n",
    "  (the default behaviour) Python allows programmers to handle such scenarios\n",
    "  gracefully with a `try-except` construct.  \n",
    "- In the `try` block of code we place the instructions that may fail\n",
    "  due to a runtime error.  \n",
    "- In the `except` block of code we place the instructions to be carried\n",
    "  out in the event of the `try` block failing due to a runtime error.  \n",
    "- If no error arises in the `try` block then execution continues at the\n",
    "  instruction following the `try-except` (the contents of the `except`\n",
    "  block are ignored).  \n",
    "- If an error occurs within the `try` block, execution stops at that\n",
    "  point and the rest of the `try` block is ignored. An exception\n",
    "  corresponding to the specific error that has arisen is *raised*.\n",
    "  Python then searches for an `except` block that can handle the\n",
    "  exception.  \n",
    "- If a suitable `except` block is found it is executed and execution\n",
    "  continues from the point following the `try-except`.  \n",
    "- We have updated our program below to  handle the file not found error\n",
    "gracefully.  "
   ]
  },
  {
   "cell_type": "code",
   "execution_count": null,
   "id": "ac8f5456",
   "metadata": {
    "hide-output": false
   },
   "outputs": [],
   "source": [
    "#!/usr/bin/env python3\n",
    "\n",
    "import sys\n",
    "\n",
    "def main():\n",
    "\n",
    "    try:\n",
    "        f = open(sys.argv[1], 'r')\n",
    "\n",
    "        for line in f:\n",
    "            tokens = line.strip().split()\n",
    "            mark = int(tokens[-1])\n",
    "            name = ' '.join(tokens[:-1])\n",
    "\n",
    "            if mark >= 40:\n",
    "                result = 'passed'\n",
    "            else:\n",
    "                result = 'failed'\n",
    "\n",
    "            print(f'{name} {result} with a mark of {mark}')\n",
    "\n",
    "        f.close()\n",
    "\n",
    "    except FileNotFoundError:\n",
    "        print(f'The file {sys.argv[1]} does not exist.')\n",
    "\n",
    "if __name__ == '__main__':\n",
    "    main()"
   ]
  },
  {
   "cell_type": "markdown",
   "id": "b31fa97b",
   "metadata": {
    "hide-output": false
   },
   "source": [
    "```text\n",
    "$ python3 procfile_v02.py no-such-file.txt\n",
    "The file no-such-file.txt does not exist.\n",
    "```\n"
   ]
  },
  {
   "cell_type": "markdown",
   "id": "1715787b",
   "metadata": {},
   "source": [
    "\n",
    "\n",
    "## What about other exceptions?\n",
    "\n",
    "- Our code is not yet robust to all runtime errors however. For example,\n",
    "let’s see what happens if the file we are processing is incorrectly\n",
    "formatted e.g. due to a typographic error it does not contain an\n",
    "integer mark. If no suitable `except` block is found then the\n",
    "default behaviour applies and program execution is halted.  "
   ]
  },
  {
   "cell_type": "markdown",
   "id": "b9eb6bdd",
   "metadata": {
    "hide-output": false
   },
   "source": [
    "```text\n",
    "$ cat errors.txt\n",
    "Mary Connolly 76\n",
    "John Paul Jones 44\n",
    "Fred Higgins e0\n",
    "Laura Timmons 57\n",
    "Fernandinho 22\n",
    "```\n"
   ]
  },
  {
   "cell_type": "markdown",
   "id": "10c66499",
   "metadata": {
    "hide-output": false
   },
   "source": [
    "```text\n",
    "$ python3 procfile_v02.py errors.txt\n",
    "Mary Connolly passed with a mark of 76\n",
    "John Paul Jones passed with a mark of 44\n",
    "Traceback (most recent call last):\n",
    "  File \"/home/dobrien/darragh/vinson/ca117/sphinx/week02/lecture04/procfile_v02.py\", line 28, in <module>\n",
    "    main()\n",
    "  File \"/home/dobrien/darragh/vinson/ca117/sphinx/week02/lecture04/procfile_v02.py\", line 12, in main\n",
    "    mark = int(tokens[-1])\n",
    "ValueError: invalid literal for int() with base 10: 'e0'\n",
    "```\n"
   ]
  },
  {
   "cell_type": "markdown",
   "id": "21571e59",
   "metadata": {},
   "source": [
    "- Hmm. We have a couple of problems here. Firstly our program is crashing\n",
    "  on encountering a illegal mark. Secondly, because the exception causes\n",
    "  our program to exit immediately it does so *without closing the file*.\n",
    "  That’s bad practice.  \n",
    "- Let’s handle the second problem first. Can we fix it so that the file\n",
    "  is *always* closed i.e. it is closed when the program runs correctly\n",
    "  *and* it is closed in the event of an (unhandled) exception?  \n",
    "- Yes. The use of the `with` statement means the file is always closed\n",
    "cleanly irrespective of whether or not an exception is raised. Let’s\n",
    "modify our program to use such a `with` statement:  "
   ]
  },
  {
   "cell_type": "code",
   "execution_count": null,
   "id": "15d65144",
   "metadata": {
    "hide-output": false
   },
   "outputs": [],
   "source": [
    "#!/usr/bin/env python3\n",
    "\n",
    "import sys\n",
    "\n",
    "def main():\n",
    "\n",
    "    try:\n",
    "        with open(sys.argv[1], 'r') as f:\n",
    "\n",
    "            for line in f:\n",
    "                tokens = line.strip().split()\n",
    "                mark = int(tokens[-1])\n",
    "                name = ' '.join(tokens[:-1])\n",
    "\n",
    "                if mark >= 40:\n",
    "                    result = 'passed'\n",
    "                else:\n",
    "                    result = 'failed'\n",
    "\n",
    "                print(f'{name} {result} with a mark of {mark}')\n",
    "\n",
    "    except FileNotFoundError:\n",
    "        print(f'The file {sys.argv[1]} does not exist.')\n",
    "\n",
    "if __name__ == '__main__':\n",
    "    main()"
   ]
  },
  {
   "cell_type": "markdown",
   "id": "b36efee1",
   "metadata": {},
   "source": [
    "\n",
    "\n",
    "## Handling illegal marks\n",
    "\n",
    "- To gracefully handle the `ValueError` exception caused by the presence\n",
    "  of an illegal mark in our input file we need a new `except` block.\n",
    "  Where should we place it?  \n",
    "- Well that depends on the kind of behaviour we want. If an error occurs do\n",
    "  we want to continue processing the remainder of the file following the\n",
    "  error or do we want to give up immediately and ignore the rest of the file?  \n",
    "- If we want to give up immediately and discontinue file processing then\n",
    "we need to place our `except` block *outside* the for loop (so we exit\n",
    "the loop when the exception is handled) and we would do something like\n",
    "this:  "
   ]
  },
  {
   "cell_type": "code",
   "execution_count": null,
   "id": "cb781db0",
   "metadata": {
    "hide-output": false
   },
   "outputs": [],
   "source": [
    "#!/usr/bin/env python3\n",
    "\n",
    "import sys\n",
    "\n",
    "def main():\n",
    "\n",
    "    try:\n",
    "        with open(sys.argv[1], 'r') as f:\n",
    "\n",
    "            for line in f:\n",
    "                tokens = line.strip().split()\n",
    "                mark = int(tokens[-1])\n",
    "                name = ' '.join(tokens[:-1])\n",
    "\n",
    "                if mark >= 40:\n",
    "                    result = 'passed'\n",
    "                else:\n",
    "                    result = 'failed'\n",
    "\n",
    "                print(f'{name} {result} with a mark of {mark}')\n",
    "\n",
    "    except ValueError:\n",
    "        print(f'Illegal mark encountered: {tokens[-1]}')\n",
    "\n",
    "    except FileNotFoundError:\n",
    "        print(f'The file {sys.argv[1]} does not exist.')\n",
    "\n",
    "if __name__ == '__main__':\n",
    "    main()"
   ]
  },
  {
   "cell_type": "markdown",
   "id": "3e519934",
   "metadata": {
    "hide-output": false
   },
   "source": [
    "```text\n",
    "$ python3 procfile_v04.py errors.txt\n",
    "Mary Connolly passed with a mark of 76\n",
    "John Paul Jones passed with a mark of 44\n",
    "Illegal mark encountered: e0\n",
    "```\n"
   ]
  },
  {
   "cell_type": "markdown",
   "id": "0b8bf76d",
   "metadata": {},
   "source": [
    "- If we want to report the illegal mark but process the remainder of the\n",
    "  file then we need to place a new `try-except` construct *inside* the\n",
    "  for loop.  \n",
    "- Staying inside the for loop on encountering an error means we will go\n",
    "on and process the remainder of the file:  "
   ]
  },
  {
   "cell_type": "code",
   "execution_count": null,
   "id": "cf9d2e3d",
   "metadata": {
    "hide-output": false
   },
   "outputs": [],
   "source": [
    "#!/usr/bin/env python3\n",
    "\n",
    "import sys\n",
    "\n",
    "def main():\n",
    "\n",
    "    try:\n",
    "        with open(sys.argv[1], 'r') as f:\n",
    "\n",
    "            for line in f:\n",
    "\n",
    "                try:\n",
    "                    tokens = line.strip().split()\n",
    "                    mark = int(tokens[-1])\n",
    "                    name = ' '.join(tokens[:-1])\n",
    "\n",
    "                    if mark >= 40:\n",
    "                        result = 'passed'\n",
    "                    else:\n",
    "                        result = 'failed'\n",
    "\n",
    "                    print(f'{name} {result} with a mark of {mark}')\n",
    "\n",
    "                except ValueError:\n",
    "                    print(f'Illegal mark encountered: {tokens[-1]}')\n",
    "\n",
    "    except FileNotFoundError:\n",
    "        print(f'The file {sys.argv[1]} does not exist.')\n",
    "\n",
    "if __name__ == '__main__':\n",
    "    main()"
   ]
  },
  {
   "cell_type": "markdown",
   "id": "97643fd4",
   "metadata": {
    "hide-output": false
   },
   "source": [
    "```text\n",
    "$ python3 procfile_v05.py errors.txt\n",
    "Mary Connolly passed with a mark of 76\n",
    "John Paul Jones passed with a mark of 44\n",
    "Illegal mark encountered: e0\n",
    "Laura Timmons passed with a mark of 57\n",
    "Fernandinho failed with a mark of 22\n",
    "```\n"
   ]
  },
  {
   "cell_type": "markdown",
   "id": "f6aa1062",
   "metadata": {},
   "source": [
    "\n",
    "\n",
    "## The `else` block\n",
    "\n",
    "- If execution leaves the `try` block *normally* i.e. **not** as a result\n",
    "of an exception and not as a result of `break`, `continue` or\n",
    "`return` then the `else` block (if present) is executed. The `else`\n",
    "block must be placed after all `except` blocks.  "
   ]
  },
  {
   "cell_type": "code",
   "execution_count": null,
   "id": "9da4eaff",
   "metadata": {
    "hide-output": false
   },
   "outputs": [],
   "source": [
    "#!/usr/bin/env python3\n",
    "\n",
    "import sys\n",
    "\n",
    "def main():\n",
    "    try:\n",
    "        with open(sys.argv[1], 'r') as f:\n",
    "            for line in f:\n",
    "                tokens = line.strip().split()\n",
    "                mark = int(tokens[-1])\n",
    "                name = ' '.join(tokens[:-1])\n",
    "\n",
    "                if mark >= 40:\n",
    "                    result = 'passed'\n",
    "                else:\n",
    "                    result = 'failed'\n",
    "\n",
    "                print(f'{name} {result} with a mark of {mark}')\n",
    "                    \n",
    "    except ValueError:\n",
    "        print(f'Illegal mark encountered: {tokens[-1]}')\n",
    "\n",
    "    except FileNotFoundError:\n",
    "        print(f'The file {sys.argv[1]} does not exist.')\n",
    "\n",
    "    else:\n",
    "        print('Reached end of file')\n",
    "\n",
    "if __name__ == '__main__':\n",
    "    main()"
   ]
  },
  {
   "cell_type": "markdown",
   "id": "97009c75",
   "metadata": {
    "hide-output": false
   },
   "source": [
    "```text\n",
    "$ python3 procfile_v06.py results.txt\n",
    "Mary Connolly passed with a mark of 76\n",
    "John Paul Jones passed with a mark of 44\n",
    "Fred Higgins failed with a mark of 30\n",
    "Laura Timmons passed with a mark of 57\n",
    "Fernandinho failed with a mark of 22\n",
    "Reached end of file\n",
    "```\n"
   ]
  },
  {
   "cell_type": "markdown",
   "id": "e02b0d53",
   "metadata": {
    "hide-output": false
   },
   "source": [
    "```text\n",
    "$ python3 procfile_v06.py errors.txt\n",
    "Mary Connolly passed with a mark of 76\n",
    "John Paul Jones passed with a mark of 44\n",
    "Illegal mark encountered: e0\n",
    "```\n"
   ]
  },
  {
   "cell_type": "markdown",
   "id": "3fc1c66e",
   "metadata": {},
   "source": [
    "\n",
    "\n",
    "## The `finally` block\n",
    "\n",
    "- A `finally` block is often used in conjunction with `try` and\n",
    "`except` blocks. In the `finally` block we place code that we\n",
    "*always* want executed, irrespective of whether an exception occurs\n",
    "or not. Below we augment our program with a `finally` block that\n",
    "prints a summary of all successfully processed lines before exiting:  "
   ]
  },
  {
   "cell_type": "code",
   "execution_count": null,
   "id": "b8e070d4",
   "metadata": {
    "hide-output": false
   },
   "outputs": [],
   "source": [
    "#!/usr/bin/env python3\n",
    "\n",
    "import sys\n",
    "\n",
    "def main():\n",
    "    lines = 0\n",
    "    try:\n",
    "        with open(sys.argv[1], 'r') as f:\n",
    "            for line in f:\n",
    "\n",
    "                try:\n",
    "                    tokens = line.strip().split()\n",
    "                    mark = int(tokens[-1])\n",
    "                    name = ' '.join(tokens[:-1])\n",
    "\n",
    "                    if mark >= 40:\n",
    "                        result = 'passed'\n",
    "                    else:\n",
    "                        result = 'failed'\n",
    "\n",
    "                    print(f'{name} {result} with a mark of {mark}')\n",
    "                    lines += 1\n",
    "                    \n",
    "                except ValueError:\n",
    "                    print(f'Illegal mark encountered: {tokens[-1]}')\n",
    "\n",
    "    except FileNotFoundError:\n",
    "        print(f'The file {sys.argv[1]} does not exist.')\n",
    "\n",
    "    else:\n",
    "        print('Reached end of file')\n",
    "\n",
    "    finally:\n",
    "        print(f'Lines processed: {lines}')\n",
    "\n",
    "if __name__ == '__main__':\n",
    "    main()"
   ]
  },
  {
   "cell_type": "markdown",
   "id": "bdbe605a",
   "metadata": {
    "hide-output": false
   },
   "source": [
    "```text\n",
    "$ python3 procfile_v07.py errors.txt\n",
    "Mary Connolly passed with a mark of 76\n",
    "John Paul Jones passed with a mark of 44\n",
    "Illegal mark encountered: e0\n",
    "Laura Timmons passed with a mark of 57\n",
    "Fernandinho failed with a mark of 22\n",
    "Reached end of file\n",
    "Lines processed: 4\n",
    "```\n"
   ]
  },
  {
   "cell_type": "markdown",
   "id": "45562887",
   "metadata": {},
   "source": [
    "\n",
    "\n",
    "## Writing a file\n",
    "\n",
    "- Let’s complete our program such that it writes its output to a file\n",
    "rather than to the screen. Note how we have enhanced the `with`\n",
    "statement to deal with two files:  "
   ]
  },
  {
   "cell_type": "code",
   "execution_count": null,
   "id": "1580b033",
   "metadata": {
    "hide-output": false
   },
   "outputs": [],
   "source": [
    "#!/usr/bin/env python3\n",
    "\n",
    "import sys\n",
    "\n",
    "def main():\n",
    "    lines = 0\n",
    "    try:\n",
    "        with open(sys.argv[1], 'r') as fin, open(sys.argv[2], 'w') as fout:\n",
    "\n",
    "            for line in fin:\n",
    "\n",
    "                try:\n",
    "                    tokens = line.strip().split()\n",
    "                    mark = int(tokens[-1])\n",
    "                    name = ' '.join(tokens[:-1])\n",
    "\n",
    "                    if mark >= 40:\n",
    "                        result = 'passed'\n",
    "                    else:\n",
    "                        result = 'failed'\n",
    "                        \n",
    "                    fout.write(f'{name} {result} with a mark of {mark}\\n')\n",
    "                    lines += 1\n",
    "\n",
    "                except ValueError:\n",
    "                    print(f'Illegal mark encountered: {tokens[-1]}')\n",
    "\n",
    "    except FileNotFoundError:\n",
    "        print(f'The file {sys.argv[1]} does not exist.')\n",
    "\n",
    "    else:\n",
    "        print('Reached end of file')\n",
    "\n",
    "    finally:\n",
    "        print(f'Lines processed: {lines}')\n",
    "\n",
    "if __name__ == '__main__':\n",
    "    main()"
   ]
  },
  {
   "cell_type": "markdown",
   "id": "6af50cf0",
   "metadata": {
    "hide-output": false
   },
   "source": [
    "```text\n",
    "$ python3 procfile_v08.py errors.txt processed.txt\n",
    "Illegal mark encountered: e0\n",
    "Reached end of file\n",
    "Lines processed: 4\n",
    "```\n"
   ]
  },
  {
   "cell_type": "markdown",
   "id": "7e561d23",
   "metadata": {
    "hide-output": false
   },
   "source": [
    "```text\n",
    "$ cat processed.txt\n",
    "Mary Connolly passed with a mark of 76\n",
    "John Paul Jones passed with a mark of 44\n",
    "Laura Timmons passed with a mark of 57\n",
    "Fernandinho failed with a mark of 22\n",
    "```\n"
   ]
  }
 ],
 "metadata": {
  "date": 1642365681.9305563,
  "filename": "04_exceptions.rst",
  "kernelspec": {
   "display_name": "Python",
   "language": "python3",
   "name": "python3"
  },
  "title": "Lecture 2.4 : Exception handling"
 },
 "nbformat": 4,
 "nbformat_minor": 5
}
